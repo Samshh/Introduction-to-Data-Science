{
  "cells": [
    {
      "cell_type": "markdown",
      "metadata": {
        "id": "qyew5TAbX0Xv"
      },
      "source": [
        "# Data Science Notebook"
      ]
    },
    {
      "cell_type": "markdown",
      "metadata": {
        "id": "cvOpIPPIX9lM"
      },
      "source": [
        "## Introduction\n",
        "This notebook provides an overview of various aspects of Data Science, including languages, libraries, tools, and arithmetic operations.\n"
      ]
    },
    {
      "cell_type": "markdown",
      "metadata": {
        "id": "Uzg5Jem7YAW2"
      },
      "source": [
        "## Data Science Languages\n",
        "- Python\n",
        "- R\n",
        "- SQL\n",
        "- Julia\n",
        "- Java\n"
      ]
    },
    {
      "cell_type": "markdown",
      "metadata": {
        "id": "DbAn1bw2YGTj"
      },
      "source": [
        "## Data Science Libraries\n",
        "- Pandas\n",
        "- NumPy\n",
        "- Matplotlib\n",
        "- Scikit-learn\n",
        "- TensorFlow\n"
      ]
    },
    {
      "cell_type": "markdown",
      "metadata": {
        "id": "fSDl6yhNYKyn"
      },
      "source": [
        "## Data Science Tools\n",
        "\n",
        "| Tool              | Description                    |\n",
        "|-------------------|--------------------------------|\n",
        "| Jupyter Notebook  | Interactive coding environment |\n",
        "| RStudio           | Integrated development for R   |\n",
        "| Apache Spark      | Cluster computing framework    |\n",
        "| TensorFlow        | Deep learning framework        |\n"
      ]
    },
    {
      "cell_type": "markdown",
      "metadata": {
        "id": "76yTfrHwYNtP"
      },
      "source": [
        "## Arithmetic Expression Examples\n",
        "Below are some examples of arithmetic operations in Python.\n"
      ]
    },
    {
      "cell_type": "code",
      "execution_count": null,
      "metadata": {
        "id": "KlU13CwSYOqS"
      },
      "outputs": [],
      "source": [
        "# Multiplying and adding numbers\n",
        "(5 * 4) + 3\n"
      ]
    },
    {
      "cell_type": "code",
      "execution_count": null,
      "metadata": {
        "id": "KASgmh4RYQYT"
      },
      "outputs": [],
      "source": [
        "# Converting minutes to hours\n",
        "minutes = 120\n",
        "hours = minutes / 60\n",
        "hours\n"
      ]
    },
    {
      "cell_type": "markdown",
      "metadata": {
        "id": "6YJwciUiYUFQ"
      },
      "source": [
        "## Objectives\n",
        "- Understand Data Science languages\n",
        "- Learn common Data Science libraries\n",
        "- Explore Data Science tools\n",
        "- Perform arithmetic operations\n",
        "- Convert time units from minutes to hours\n"
      ]
    },
    {
      "cell_type": "markdown",
      "metadata": {
        "id": "c8nSiBSEZOjK"
      },
      "source": [
        "## Author\n",
        "Samuel B. Dacara III\n"
      ]
    }
  ],
  "metadata": {
    "colab": {
      "provenance": []
    },
    "kernelspec": {
      "display_name": "Python 3",
      "name": "python3"
    },
    "language_info": {
      "name": "python"
    }
  },
  "nbformat": 4,
  "nbformat_minor": 0
}
