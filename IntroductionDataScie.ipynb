{
  "nbformat": 4,
  "nbformat_minor": 0,
  "metadata": {
    "colab": {
      "provenance": []
    },
    "kernelspec": {
      "name": "python3",
      "display_name": "Python 3"
    },
    "language_info": {
      "name": "python"
    }
  },
  "cells": [
    {
      "cell_type": "markdown",
      "source": [
        "# Data Science Notebook"
      ],
      "metadata": {
        "id": "qyew5TAbX0Xv"
      }
    },
    {
      "cell_type": "markdown",
      "source": [
        "## Introduction\n",
        "This notebook provides an overview of various aspects of Data Science, including languages, libraries, tools, and arithmetic operations."
      ],
      "metadata": {
        "id": "cvOpIPPIX9lM"
      }
    },
    {
      "cell_type": "markdown",
      "source": [
        "## Data Science Languages\n",
        "- Python\n",
        "- R\n",
        "- SQL\n",
        "- Julia\n",
        "- Java\n"
      ],
      "metadata": {
        "id": "Uzg5Jem7YAW2"
      }
    },
    {
      "cell_type": "markdown",
      "source": [
        "## Data Science Libraries\n",
        "- Pandas\n",
        "- NumPy\n",
        "- Matplotlib\n",
        "- Scikit-learn\n",
        "- TensorFlow\n"
      ],
      "metadata": {
        "id": "DbAn1bw2YGTj"
      }
    },
    {
      "cell_type": "markdown",
      "source": [
        "## Data Science Tools\n",
        "\n",
        "| Tool              | Description                    |\n",
        "|-------------------|--------------------------------|\n",
        "| Jupyter Notebook  | Interactive coding environment |\n",
        "| RStudio           | Integrated development for R   |\n",
        "| Apache Spark      | Cluster computing framework    |\n",
        "| TensorFlow        | Deep learning framework        |\n"
      ],
      "metadata": {
        "id": "fSDl6yhNYKyn"
      }
    },
    {
      "cell_type": "markdown",
      "source": [
        "## Arithmetic Expression Examples\n",
        "Below are some examples of arithmetic operations in Python.\n"
      ],
      "metadata": {
        "id": "76yTfrHwYNtP"
      }
    },
    {
      "cell_type": "code",
      "source": [
        "# Multiplying and adding numbers\n",
        "(5 * 4) + 3\n"
      ],
      "metadata": {
        "id": "KlU13CwSYOqS"
      },
      "execution_count": null,
      "outputs": []
    },
    {
      "cell_type": "code",
      "source": [
        "# Converting minutes to hours\n",
        "minutes = 120\n",
        "hours = minutes / 60\n",
        "hours\n"
      ],
      "metadata": {
        "id": "KASgmh4RYQYT"
      },
      "execution_count": null,
      "outputs": []
    },
    {
      "cell_type": "markdown",
      "source": [
        "## Objectives\n",
        "- Understand Data Science languages\n",
        "- Learn common Data Science libraries\n",
        "- Explore Data Science tools\n",
        "- Perform arithmetic operations\n",
        "- Convert time units from minutes to hours\n"
      ],
      "metadata": {
        "id": "6YJwciUiYUFQ"
      }
    },
    {
      "cell_type": "markdown",
      "source": [
        "## Author\n",
        "Sam Dacara\n"
      ],
      "metadata": {
        "id": "c8nSiBSEZOjK"
      }
    }
  ]
}